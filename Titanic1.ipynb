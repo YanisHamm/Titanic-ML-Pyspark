{
 "cells": [
  {
   "cell_type": "markdown",
   "metadata": {},
   "source": [
    "## Initialisation de Spark"
   ]
  },
  {
   "cell_type": "code",
   "execution_count": 1,
   "metadata": {
    "id": "Zr0tvzpBoH8c"
   },
   "outputs": [],
   "source": [
    "# Starting a Spark session\n",
    "import pyspark\n",
    "import findspark\n",
    "findspark.init()\n",
    "from pyspark import SparkContext, SparkConf\n",
    "from pyspark.sql import SparkSession\n",
    "spark = SparkSession.builder.appName('Titanic-ML').getOrCreate()"
   ]
  },
  {
   "cell_type": "code",
   "execution_count": 2,
   "metadata": {
    "id": "L4PlXmieoH8d"
   },
   "outputs": [],
   "source": [
    "\n",
    "from pyspark.sql.functions import count, mean, when, lit, create_map, regexp_extract, col, split\n",
    "from itertools import chain"
   ]
  },
  {
   "cell_type": "code",
   "execution_count": 3,
   "metadata": {
    "id": "etmAh9akoH8d"
   },
   "outputs": [],
   "source": [
    "# Chargement des données \n",
    "train = spark.read.csv('./data/train.csv', header=True, inferSchema=True)\n",
    "test  = spark.read.csv('./data/test.csv', header=True, inferSchema=True)"
   ]
  },
  {
   "cell_type": "code",
   "execution_count": 4,
   "metadata": {},
   "outputs": [
    {
     "data": {
      "text/plain": [
       "891"
      ]
     },
     "execution_count": 4,
     "metadata": {},
     "output_type": "execute_result"
    }
   ],
   "source": [
    "train.count()"
   ]
  },
  {
   "cell_type": "code",
   "execution_count": 5,
   "metadata": {
    "colab": {
     "base_uri": "https://localhost:8080/"
    },
    "id": "WAbDeyqGoH8d",
    "outputId": "07dcb1c8-2352-45a6-bff6-14260cd9c58d"
   },
   "outputs": [
    {
     "name": "stdout",
     "output_type": "stream",
     "text": [
      "root\n",
      " |-- PassengerId: integer (nullable = true)\n",
      " |-- Survived: integer (nullable = true)\n",
      " |-- Pclass: integer (nullable = true)\n",
      " |-- Name: string (nullable = true)\n",
      " |-- Sex: string (nullable = true)\n",
      " |-- Age: double (nullable = true)\n",
      " |-- SibSp: integer (nullable = true)\n",
      " |-- Parch: integer (nullable = true)\n",
      " |-- Ticket: string (nullable = true)\n",
      " |-- Fare: double (nullable = true)\n",
      " |-- Cabin: string (nullable = true)\n",
      " |-- Embarked: string (nullable = true)\n",
      "\n"
     ]
    }
   ],
   "source": [
    "# We can use printSchema() to visualize column names, data types and whether they're nullable or not\n",
    "train.printSchema()\n"
   ]
  },
  {
   "cell_type": "code",
   "execution_count": 7,
   "metadata": {
    "colab": {
     "base_uri": "https://localhost:8080/"
    },
    "id": "5He__DAEoH8d",
    "outputId": "47e244dc-33fe-462e-e881-cee368ebcb05"
   },
   "outputs": [
    {
     "name": "stdout",
     "output_type": "stream",
     "text": [
      "+-----------+--------+------+--------------------+------+----+-----+-----+----------------+-------+-----+--------+\n",
      "|PassengerId|Survived|Pclass|                Name|   Sex| Age|SibSp|Parch|          Ticket|   Fare|Cabin|Embarked|\n",
      "+-----------+--------+------+--------------------+------+----+-----+-----+----------------+-------+-----+--------+\n",
      "|          1|       0|     3|Braund, Mr. Owen ...|  male|22.0|    1|    0|       A/5 21171|   7.25| null|       S|\n",
      "|          2|       1|     1|Cumings, Mrs. Joh...|female|38.0|    1|    0|        PC 17599|71.2833|  C85|       C|\n",
      "|          3|       1|     3|Heikkinen, Miss. ...|female|26.0|    0|    0|STON/O2. 3101282|  7.925| null|       S|\n",
      "|          4|       1|     1|Futrelle, Mrs. Ja...|female|35.0|    1|    0|          113803|   53.1| C123|       S|\n",
      "|          5|       0|     3|Allen, Mr. Willia...|  male|35.0|    0|    0|          373450|   8.05| null|       S|\n",
      "+-----------+--------+------+--------------------+------+----+-----+-----+----------------+-------+-----+--------+\n",
      "only showing top 5 rows\n",
      "\n"
     ]
    }
   ],
   "source": [
    "# Visualizing first 5 rows of each dataset\n",
    "train.show(5)\n"
   ]
  },
  {
   "cell_type": "markdown",
   "metadata": {
    "id": "umFvjJqyoH8d"
   },
   "source": [
    "Right away, we can see that we have some null values in our datasets. We'll deal with them later on..."
   ]
  },
  {
   "cell_type": "code",
   "execution_count": 8,
   "metadata": {
    "colab": {
     "base_uri": "https://localhost:8080/"
    },
    "id": "HygYktBVoH8e",
    "outputId": "de90a792-5824-4524-fc71-814013aa2de7"
   },
   "outputs": [
    {
     "name": "stdout",
     "output_type": "stream",
     "text": [
      "+--------+-----+\n",
      "|Survived|count|\n",
      "+--------+-----+\n",
      "|       1|  342|\n",
      "|       0|  549|\n",
      "+--------+-----+\n",
      "\n"
     ]
    }
   ],
   "source": [
    "# Counting the number of classes\n",
    "train.groupBy('Survived').count().show()"
   ]
  },
  {
   "cell_type": "markdown",
   "metadata": {
    "id": "XziJAPyroH8e"
   },
   "source": [
    "Most passengers didn't survive. "
   ]
  },
  {
   "cell_type": "code",
   "execution_count": 9,
   "metadata": {
    "colab": {
     "base_uri": "https://localhost:8080/"
    },
    "id": "_sGzUwHLoH8e",
    "outputId": "26d8450d-16c5-47a9-d208-7b629a2fffd6"
   },
   "outputs": [
    {
     "name": "stdout",
     "output_type": "stream",
     "text": [
      "+--------+------------------+------------------+\n",
      "|Survived|          avg(Age)|         avg(Fare)|\n",
      "+--------+------------------+------------------+\n",
      "|       1|28.343689655172415| 48.39540760233917|\n",
      "|       0| 30.62617924528302|22.117886885245877|\n",
      "+--------+------------------+------------------+\n",
      "\n"
     ]
    }
   ],
   "source": [
    "# Counting average Fare value and average age for each class\n",
    "train.groupBy('Survived').mean('Age', 'Fare').show()"
   ]
  },
  {
   "cell_type": "markdown",
   "metadata": {
    "id": "oIXToG6YoH8e"
   },
   "source": [
    "On average, the passengers who did survive paid a higher fare and were younger than passengers who deceased."
   ]
  },
  {
   "cell_type": "code",
   "execution_count": 10,
   "metadata": {
    "colab": {
     "base_uri": "https://localhost:8080/"
    },
    "id": "ZejAHG57oH8e",
    "outputId": "340a44d4-541b-473c-e26e-85e8175d7d6a"
   },
   "outputs": [
    {
     "name": "stdout",
     "output_type": "stream",
     "text": [
      "+--------+------+----+\n",
      "|Survived|female|male|\n",
      "+--------+------+----+\n",
      "|       1|   233| 109|\n",
      "|       0|    81| 468|\n",
      "+--------+------+----+\n",
      "\n"
     ]
    }
   ],
   "source": [
    "# Counting survivors by sex\n",
    "train.groupBy('Survived').pivot('Sex').count().show()"
   ]
  },
  {
   "cell_type": "markdown",
   "metadata": {
    "id": "qf-FbEtIoH8f"
   },
   "source": [
    "We can definetly see that most females survived (68.12%) while most men died (85.24%)"
   ]
  },
  {
   "cell_type": "code",
   "execution_count": 11,
   "metadata": {
    "colab": {
     "base_uri": "https://localhost:8080/"
    },
    "id": "c7IBuCW0oH8f",
    "outputId": "3c8e3221-c65e-4a29-c7a9-6c51d7f95e8c"
   },
   "outputs": [
    {
     "name": "stdout",
     "output_type": "stream",
     "text": [
      "+--------+---+---+---+\n",
      "|Survived|  1|  2|  3|\n",
      "+--------+---+---+---+\n",
      "|       1|136| 87|119|\n",
      "|       0| 80| 97|372|\n",
      "+--------+---+---+---+\n",
      "\n"
     ]
    }
   ],
   "source": [
    "# Counting survivors by ticket class\n",
    "train.groupBy('Survived').pivot('Pclass').count().show()"
   ]
  },
  {
   "cell_type": "markdown",
   "metadata": {
    "id": "PVTvT3FdoH8f"
   },
   "source": [
    "Most of the survivors were in the first class, while most of the deceased were in the third class."
   ]
  },
  {
   "cell_type": "code",
   "execution_count": 12,
   "metadata": {
    "colab": {
     "base_uri": "https://localhost:8080/"
    },
    "id": "KYc7FpwxoH8f",
    "outputId": "63ddd17c-2b25-4eaf-ed66-96ffe8158081"
   },
   "outputs": [
    {
     "name": "stdout",
     "output_type": "stream",
     "text": [
      "+--------+---+---+---+---+---+----+----+\n",
      "|Survived|  0|  1|  2|  3|  4|   5|   8|\n",
      "+--------+---+---+---+---+---+----+----+\n",
      "|       1|210|112| 13|  4|  3|null|null|\n",
      "|       0|398| 97| 15| 12| 15|   5|   7|\n",
      "+--------+---+---+---+---+---+----+----+\n",
      "\n"
     ]
    }
   ],
   "source": [
    "# Counting survivors by the number of siblings/spouses in the titanic\n",
    "train.groupBy('Survived').pivot('SibSp').count().show()"
   ]
  },
  {
   "cell_type": "code",
   "execution_count": 13,
   "metadata": {
    "colab": {
     "base_uri": "https://localhost:8080/"
    },
    "id": "32UnWi2AoH8f",
    "outputId": "8835b8a6-3b8e-44bc-a655-ec208a5d58cb"
   },
   "outputs": [
    {
     "name": "stdout",
     "output_type": "stream",
     "text": [
      "+--------+---+---+---+---+----+---+----+\n",
      "|Survived|  0|  1|  2|  3|   4|  5|   6|\n",
      "+--------+---+---+---+---+----+---+----+\n",
      "|       1|233| 65| 40|  3|null|  1|null|\n",
      "|       0|445| 53| 40|  2|   4|  4|   1|\n",
      "+--------+---+---+---+---+----+---+----+\n",
      "\n"
     ]
    }
   ],
   "source": [
    "# Counting survivors by the number of parents/children in the titanic\n",
    "train.groupBy('Survived').pivot('Parch').count().show()"
   ]
  },
  {
   "cell_type": "markdown",
   "metadata": {
    "id": "xk4390tKoH8f"
   },
   "source": [
    "It doesn't seem like the number of siblings, spouses, children or parents in the Titanic would play a significant role in surviving the accident. Most of the survivors had no siblings with them, while most of those who were deceased were also alone. <br><br>\n",
    "The only conclusion we could make is that it seems more likely that most large families didn't make it out alive."
   ]
  },
  {
   "cell_type": "code",
   "execution_count": 14,
   "metadata": {
    "colab": {
     "base_uri": "https://localhost:8080/"
    },
    "id": "JVj0uuWSoH8f",
    "outputId": "126c8f8d-5e8f-47cb-b3e6-f417d2fbc798"
   },
   "outputs": [
    {
     "name": "stdout",
     "output_type": "stream",
     "text": [
      "+--------+----+---+---+---+\n",
      "|Survived|null|  C|  Q|  S|\n",
      "+--------+----+---+---+---+\n",
      "|       1|   2| 93| 30|217|\n",
      "|       0|null| 75| 47|427|\n",
      "+--------+----+---+---+---+\n",
      "\n"
     ]
    }
   ],
   "source": [
    "# Counting survivors by the port of embarkation\n",
    "train.groupBy('Survived').pivot('Embarked').count().show()"
   ]
  },
  {
   "cell_type": "markdown",
   "metadata": {
    "id": "8oAFUeJIoH8g"
   },
   "source": [
    "Ok! After getting some insights on survivors, we can realize that gender and socioeconomic class were the most significant features in increasing or decreasing the probability of passengers surviving the accident. <br><br>\n",
    "\n",
    "Let's now take a look at the dataset and see any changes we must do. We know we have some null data to deal with. Let's count them!"
   ]
  },
  {
   "cell_type": "code",
   "execution_count": 15,
   "metadata": {},
   "outputs": [
    {
     "name": "stdout",
     "output_type": "stream",
     "text": [
      "root\n",
      " |-- PassengerId: integer (nullable = true)\n",
      " |-- Survived: integer (nullable = true)\n",
      " |-- Pclass: integer (nullable = true)\n",
      " |-- Name: string (nullable = true)\n",
      " |-- Sex: string (nullable = true)\n",
      " |-- Age: double (nullable = true)\n",
      " |-- SibSp: integer (nullable = true)\n",
      " |-- Parch: integer (nullable = true)\n",
      " |-- Ticket: string (nullable = true)\n",
      " |-- Fare: double (nullable = true)\n",
      " |-- Cabin: string (nullable = true)\n",
      " |-- Embarked: string (nullable = true)\n",
      "\n"
     ]
    }
   ],
   "source": [
    "train.printSchema()"
   ]
  },
  {
   "cell_type": "code",
   "execution_count": 16,
   "metadata": {
    "colab": {
     "base_uri": "https://localhost:8080/"
    },
    "id": "VvKAenWgoH8g",
    "outputId": "142f6da3-8b07-462a-a054-a360f28f208c"
   },
   "outputs": [
    {
     "name": "stdout",
     "output_type": "stream",
     "text": [
      "PassengerId          0\n",
      "Survived             0\n",
      "Pclass               0\n",
      "Name                 0\n",
      "Sex                  0\n",
      "Age                  177\n",
      "SibSp                0\n",
      "Parch                0\n",
      "Ticket               0\n",
      "Fare                 0\n",
      "Cabin                687\n",
      "Embarked             2\n"
     ]
    }
   ],
   "source": [
    "for col in train.columns:\n",
    "    print(col.ljust(20), train.filter(train[col].isNull()).count())"
   ]
  },
  {
   "cell_type": "markdown",
   "metadata": {
    "id": "yucEdVnuoH8g"
   },
   "source": [
    "Age, Cabin, and Embarked columns have some missing data.<br><br>\n",
    "\n",
    "Not only does Cabin have a lot of missing values, but it's highly related to ticket class since cabins were distributed according to these classes. We'll drop this column!<br><br>\n",
    "\n",
    "For Age and Embarked, we will fill in missing values."
   ]
  },
  {
   "cell_type": "code",
   "execution_count": 17,
   "metadata": {
    "id": "I7G1q5exoH8g"
   },
   "outputs": [],
   "source": [
    "# Filling in Embarked with 'S', most repeated value\n",
    "train = train.fillna({'Embarked':'S'})"
   ]
  },
  {
   "cell_type": "markdown",
   "metadata": {
    "id": "G2Ktb4BjoH8g"
   },
   "source": [
    "For age imputation, we ought to take the title of the person in the name column and impute the average age for that specific group of people with such title.<br><br>\n",
    "Mrs, for instance, tends to be older than Miss"
   ]
  },
  {
   "cell_type": "code",
   "execution_count": 18,
   "metadata": {
    "colab": {
     "base_uri": "https://localhost:8080/"
    },
    "id": "VgimIhqsoH8g",
    "outputId": "38503587-df22-410c-9a4b-a2a80000451c"
   },
   "outputs": [
    {
     "name": "stdout",
     "output_type": "stream",
     "text": [
      "+--------+----------+------------------+\n",
      "|   Title|count(Age)|          avg(Age)|\n",
      "+--------+----------+------------------+\n",
      "|     Don|         1|              40.0|\n",
      "|    Capt|         1|              70.0|\n",
      "|    Lady|         1|              48.0|\n",
      "|     Sir|         1|              49.0|\n",
      "|Jonkheer|         1|              38.0|\n",
      "|Countess|         1|              33.0|\n",
      "|     Mme|         1|              24.0|\n",
      "|      Ms|         1|              28.0|\n",
      "|   Major|         2|              48.5|\n",
      "|    Mlle|         2|              24.0|\n",
      "|     Col|         2|              58.0|\n",
      "|     Rev|         6|43.166666666666664|\n",
      "|      Dr|         6|              42.0|\n",
      "|  Master|        36| 4.574166666666667|\n",
      "|     Mrs|       108|35.898148148148145|\n",
      "|    Miss|       146|21.773972602739725|\n",
      "|      Mr|       398|32.368090452261306|\n",
      "+--------+----------+------------------+\n",
      "\n"
     ]
    }
   ],
   "source": [
    "# Counting the ages per title and getting the average age for each title\n",
    "train = train.withColumn('Title', regexp_extract(train.Name,'([A-Za-z]+)\\.', 1))\n",
    "train.groupBy('Title').agg(count('Age'), mean('Age')).sort('count(age)').show()"
   ]
  },
  {
   "cell_type": "code",
   "execution_count": 19,
   "metadata": {
    "colab": {
     "base_uri": "https://localhost:8080/"
    },
    "id": "PXBUwAxooH8g",
    "outputId": "9d1eba28-5711-4142-ea1f-53520607bca5"
   },
   "outputs": [
    {
     "name": "stdout",
     "output_type": "stream",
     "text": [
      "+------+------------------+\n",
      "| Title|          avg(Age)|\n",
      "+------+------------------+\n",
      "|  Miss|             21.86|\n",
      "|Master| 4.574166666666667|\n",
      "|    Mr| 33.02272727272727|\n",
      "|   Mrs|35.981818181818184|\n",
      "+------+------------------+\n",
      "\n"
     ]
    }
   ],
   "source": [
    "# Considering that Mr, Miss and Mrs repeat much more than other titles, we may map some other titles\n",
    "# with one of these three. For example, we may map Lady as Mrs and Capt ad Mr\n",
    "\n",
    "titles = {'Mr':'Mr', 'Miss':'Miss', 'Mrs':'Mrs', 'Master':'Master', \\\n",
    "             'Mlle': 'Miss', 'Major': 'Mr', 'Col': 'Mr', 'Sir': 'Mr',\\\n",
    "             'Don': 'Mr', 'Mme': 'Miss', 'Jonkheer': 'Mr', 'Lady': 'Mrs',\\\n",
    "             'Capt': 'Mr', 'Countess': 'Mrs', 'Ms': 'Miss', 'Dona': 'Mrs', \\\n",
    "             'Dr':'Mr', 'Rev':'Mr'}\n",
    "\n",
    "map = create_map([lit(x) for x in chain(*titles.items())])\n",
    "train = train.withColumn('Title', map[train['Title']])\n",
    "train.groupBy('Title').mean('Age').show() # Showing new averages for each title"
   ]
  },
  {
   "cell_type": "code",
   "execution_count": 20,
   "metadata": {
    "id": "gV-fABWdoH8g"
   },
   "outputs": [],
   "source": [
    "# Creating a function for age imputation\n",
    "def age_imputer(data, title, age):\n",
    "    return data.withColumn('Age', when((data.Age.isNull()) & (data.Title==title),age).otherwise(data.Age))"
   ]
  },
  {
   "cell_type": "code",
   "execution_count": 21,
   "metadata": {
    "id": "K1dNY-kcoH8g"
   },
   "outputs": [],
   "source": [
    "train = age_imputer(train, 'Miss', 21.86)\n",
    "train = age_imputer(train, 'Master', 4.75)\n",
    "train = age_imputer(train,'Mr', 33.02)\n",
    "train = age_imputer(train, 'Mrs', 35.98)"
   ]
  },
  {
   "cell_type": "code",
   "execution_count": 22,
   "metadata": {
    "id": "CWT_PmzjoH8h"
   },
   "outputs": [],
   "source": [
    "# Creating a FamilySize column combining Parch and SibSp\n",
    "train = train.withColumn('FamilySize', train.Parch + train.SibSp).drop('Parch', 'SibSp')"
   ]
  },
  {
   "cell_type": "code",
   "execution_count": 23,
   "metadata": {
    "colab": {
     "base_uri": "https://localhost:8080/"
    },
    "id": "tO9gYTiwoH8h",
    "outputId": "f40e0758-0458-42a5-c4d9-208aef532195"
   },
   "outputs": [
    {
     "name": "stdout",
     "output_type": "stream",
     "text": [
      "+--------+------+------+----+-------+--------+----------+\n",
      "|Survived|Pclass|   Sex| Age|   Fare|Embarked|FamilySize|\n",
      "+--------+------+------+----+-------+--------+----------+\n",
      "|       0|     3|  male|22.0|   7.25|       S|         1|\n",
      "|       1|     1|female|38.0|71.2833|       C|         1|\n",
      "|       1|     3|female|26.0|  7.925|       S|         0|\n",
      "|       1|     1|female|35.0|   53.1|       S|         1|\n",
      "|       0|     3|  male|35.0|   8.05|       S|         0|\n",
      "+--------+------+------+----+-------+--------+----------+\n",
      "only showing top 5 rows\n",
      "\n"
     ]
    }
   ],
   "source": [
    "# Removing other unnecessary columns\n",
    "train = train.drop('PassengerId','Cabin','Name','Ticket','Title')\n",
    "# Visualizing data\n",
    "train.show(5)"
   ]
  },
  {
   "cell_type": "markdown",
   "metadata": {
    "id": "X5BhrS8aoH8h"
   },
   "source": [
    "# Creating a Machine Learning Model"
   ]
  },
  {
   "cell_type": "code",
   "execution_count": 24,
   "metadata": {
    "id": "BXKAxX2NoH8h"
   },
   "outputs": [],
   "source": [
    "from pyspark.ml.classification import LogisticRegression,RandomForestClassifier,GBTClassifier\n",
    "from pyspark.ml.evaluation import MulticlassClassificationEvaluator\n",
    "from pyspark.ml.feature import StringIndexer, VectorAssembler\n",
    "from pyspark.ml import Pipeline\n",
    "from pyspark.ml.tuning import CrossValidator, ParamGridBuilder"
   ]
  },
  {
   "cell_type": "code",
   "execution_count": 25,
   "metadata": {
    "colab": {
     "base_uri": "https://localhost:8080/"
    },
    "id": "cqoipq0doH8h",
    "outputId": "e32b755d-bbb5-452d-b9e9-7235a48a2a8f"
   },
   "outputs": [
    {
     "name": "stdout",
     "output_type": "stream",
     "text": [
      "+--------+------+----+-------+----------+--------+-------------+\n",
      "|Survived|Pclass| Age|   Fare|FamilySize|SexIndex|EmbarkedIndex|\n",
      "+--------+------+----+-------+----------+--------+-------------+\n",
      "|       0|     3|22.0|   7.25|         1|     0.0|          0.0|\n",
      "|       1|     1|38.0|71.2833|         1|     1.0|          1.0|\n",
      "|       1|     3|26.0|  7.925|         0|     1.0|          0.0|\n",
      "|       1|     1|35.0|   53.1|         1|     1.0|          0.0|\n",
      "|       0|     3|35.0|   8.05|         0|     0.0|          0.0|\n",
      "+--------+------+----+-------+----------+--------+-------------+\n",
      "only showing top 5 rows\n",
      "\n"
     ]
    }
   ],
   "source": [
    "# Converting Sex and Embarked columns to numeric index\n",
    "indexer = StringIndexer(inputCols=['Sex','Embarked'],outputCols=['SexIndex', 'EmbarkedIndex'])\n",
    "indexer_model = indexer.fit(train)\n",
    "train_1 = indexer_model.transform(train).drop('Sex','Embarked') # Transforming and dropping original columns\n",
    "train_1.show(5)"
   ]
  },
  {
   "cell_type": "code",
   "execution_count": 26,
   "metadata": {
    "colab": {
     "base_uri": "https://localhost:8080/"
    },
    "id": "tAXKZ9KBoH8h",
    "outputId": "0709e9be-c2b8-40ad-d1e0-998cc82b81ee"
   },
   "outputs": [
    {
     "name": "stdout",
     "output_type": "stream",
     "text": [
      "+------------------------------+--------+\n",
      "|features                      |Survived|\n",
      "+------------------------------+--------+\n",
      "|[3.0,22.0,7.25,1.0,0.0,0.0]   |0       |\n",
      "|[1.0,38.0,71.2833,1.0,1.0,1.0]|1       |\n",
      "|[3.0,26.0,7.925,0.0,1.0,0.0]  |1       |\n",
      "|[1.0,35.0,53.1,1.0,1.0,0.0]   |1       |\n",
      "|[3.0,35.0,8.05,0.0,0.0,0.0]   |0       |\n",
      "+------------------------------+--------+\n",
      "only showing top 5 rows\n",
      "\n"
     ]
    }
   ],
   "source": [
    "# Separating variables into indepedent and dependent variables with VectorAssembler\n",
    "assembler = VectorAssembler(inputCols=train_1.columns[1:], outputCol = 'features')\n",
    "train_1 = assembler.transform(train_1).select('features','Survived')\n",
    "train_1.show(5, False)"
   ]
  },
  {
   "cell_type": "code",
   "execution_count": 27,
   "metadata": {
    "id": "wv7cSVS3oH8h"
   },
   "outputs": [],
   "source": [
    "# Splitting data into training and validation sets\n",
    "train_ds, valid_ds = train_1.randomSplit([0.7,0.3]) # 70% of data will be used for training"
   ]
  },
  {
   "cell_type": "code",
   "execution_count": 28,
   "metadata": {
    "colab": {
     "base_uri": "https://localhost:8080/"
    },
    "id": "pD_JUHsHoH8i",
    "outputId": "2ab0ea89-e9ec-4af0-b277-93934131c85e"
   },
   "outputs": [
    {
     "name": "stdout",
     "output_type": "stream",
     "text": [
      "+---------------------+--------+\n",
      "|features             |Survived|\n",
      "+---------------------+--------+\n",
      "|(6,[0,1],[1.0,33.02])|0       |\n",
      "|(6,[0,1],[1.0,33.02])|0       |\n",
      "|(6,[0,1],[1.0,39.0]) |0       |\n",
      "|(6,[0,1],[1.0,40.0]) |0       |\n",
      "|(6,[0,1],[2.0,33.02])|0       |\n",
      "+---------------------+--------+\n",
      "only showing top 5 rows\n",
      "\n"
     ]
    }
   ],
   "source": [
    "train_ds.show(5, False)"
   ]
  },
  {
   "cell_type": "code",
   "execution_count": 29,
   "metadata": {
    "colab": {
     "base_uri": "https://localhost:8080/"
    },
    "id": "Kwwl1ON4oH8i",
    "outputId": "3e16fbee-8c75-4f29-940d-ef296194e741"
   },
   "outputs": [
    {
     "name": "stdout",
     "output_type": "stream",
     "text": [
      "+------------------------------+--------+\n",
      "|features                      |Survived|\n",
      "+------------------------------+--------+\n",
      "|(6,[0,1],[1.0,38.0])          |0       |\n",
      "|(6,[0,1],[2.0,33.02])         |0       |\n",
      "|[1.0,16.0,39.4,1.0,1.0,0.0]   |1       |\n",
      "|[1.0,16.0,57.9792,1.0,1.0,1.0]|1       |\n",
      "|[1.0,18.0,79.65,2.0,1.0,0.0]  |1       |\n",
      "+------------------------------+--------+\n",
      "only showing top 5 rows\n",
      "\n"
     ]
    }
   ],
   "source": [
    "valid_ds.show(5, False)"
   ]
  },
  {
   "cell_type": "code",
   "execution_count": 30,
   "metadata": {
    "id": "T0CHnEDWoH8i"
   },
   "outputs": [],
   "source": [
    "accuracy = MulticlassClassificationEvaluator(labelCol='Survived', metricName = 'accuracy')"
   ]
  },
  {
   "cell_type": "code",
   "execution_count": 31,
   "metadata": {
    "colab": {
     "base_uri": "https://localhost:8080/"
    },
    "id": "EJjaMO0woH8i",
    "outputId": "2821ed97-7b09-4f9e-b5cb-08f9aa6c09e4"
   },
   "outputs": [
    {
     "data": {
      "text/plain": [
       "0.7976190476190477"
      ]
     },
     "execution_count": 31,
     "metadata": {},
     "output_type": "execute_result"
    }
   ],
   "source": [
    "lr = LogisticRegression(labelCol='Survived')\n",
    "model = lr.fit(train_ds)\n",
    "prediction = model.transform(valid_ds)\n",
    "accuracy.evaluate(prediction)"
   ]
  },
  {
   "cell_type": "code",
   "execution_count": 32,
   "metadata": {
    "colab": {
     "base_uri": "https://localhost:8080/"
    },
    "id": "T_TLag8aoH8i",
    "outputId": "905793d3-0a52-4513-8ca1-37064176a2fc"
   },
   "outputs": [
    {
     "data": {
      "text/plain": [
       "0.8492063492063492"
      ]
     },
     "execution_count": 32,
     "metadata": {},
     "output_type": "execute_result"
    }
   ],
   "source": [
    "rf = RandomForestClassifier(labelCol='Survived')\n",
    "model = rf.fit(train_ds)\n",
    "prediction = model.transform(valid_ds)\n",
    "accuracy.evaluate(prediction)"
   ]
  },
  {
   "cell_type": "code",
   "execution_count": 33,
   "metadata": {
    "colab": {
     "base_uri": "https://localhost:8080/"
    },
    "id": "KOa2ETWtoH8i",
    "outputId": "c3524659-1211-45d0-bf07-4c4e7d6725e6"
   },
   "outputs": [
    {
     "data": {
      "text/plain": [
       "0.8253968253968254"
      ]
     },
     "execution_count": 33,
     "metadata": {},
     "output_type": "execute_result"
    }
   ],
   "source": [
    "gbt = GBTClassifier(labelCol='Survived')\n",
    "model = gbt.fit(train_ds)\n",
    "predictions = model.transform(valid_ds)\n",
    "accuracy.evaluate(predictions)"
   ]
  },
  {
   "cell_type": "markdown",
   "metadata": {
    "id": "eXHrahMnoH8i"
   },
   "source": [
    "Random Forest performed better."
   ]
  },
  {
   "cell_type": "markdown",
   "metadata": {
    "id": "fbeY6DUuoH8i"
   },
   "source": [
    "Before testing and tuning our models, we first need to clean our test dataset"
   ]
  },
  {
   "cell_type": "code",
   "execution_count": 34,
   "metadata": {
    "colab": {
     "base_uri": "https://localhost:8080/"
    },
    "id": "nqYetejBoH8i",
    "outputId": "75306561-c210-4f0f-93b4-394a3e51eec4"
   },
   "outputs": [
    {
     "name": "stdout",
     "output_type": "stream",
     "text": [
      "+-----------+------+--------------------+------+----+-----+-----+-------+-------+-----+--------+\n",
      "|PassengerId|Pclass|                Name|   Sex| Age|SibSp|Parch| Ticket|   Fare|Cabin|Embarked|\n",
      "+-----------+------+--------------------+------+----+-----+-----+-------+-------+-----+--------+\n",
      "|        892|     3|    Kelly, Mr. James|  male|34.5|    0|    0| 330911| 7.8292| null|       Q|\n",
      "|        893|     3|Wilkes, Mrs. Jame...|female|47.0|    1|    0| 363272|    7.0| null|       S|\n",
      "|        894|     2|Myles, Mr. Thomas...|  male|62.0|    0|    0| 240276| 9.6875| null|       Q|\n",
      "|        895|     3|    Wirz, Mr. Albert|  male|27.0|    0|    0| 315154| 8.6625| null|       S|\n",
      "|        896|     3|Hirvonen, Mrs. Al...|female|22.0|    1|    1|3101298|12.2875| null|       S|\n",
      "+-----------+------+--------------------+------+----+-----+-----+-------+-------+-----+--------+\n",
      "only showing top 5 rows\n",
      "\n"
     ]
    }
   ],
   "source": [
    "test.show(5)"
   ]
  },
  {
   "cell_type": "code",
   "execution_count": 35,
   "metadata": {
    "colab": {
     "base_uri": "https://localhost:8080/"
    },
    "id": "mf5gHsOnoH8i",
    "outputId": "78dc8ef1-2841-47e1-ceea-3c5c2a68b24e"
   },
   "outputs": [
    {
     "name": "stdout",
     "output_type": "stream",
     "text": [
      "PassengerId          0\n",
      "Pclass               0\n",
      "Name                 0\n",
      "Sex                  0\n",
      "Age                  86\n",
      "SibSp                0\n",
      "Parch                0\n",
      "Ticket               0\n",
      "Fare                 1\n",
      "Cabin                327\n",
      "Embarked             0\n"
     ]
    }
   ],
   "source": [
    "# Checking for missing data\n",
    "for col in test.columns:\n",
    "    print(col.ljust(20), test.filter(test[col].isNull()).count())"
   ]
  },
  {
   "cell_type": "code",
   "execution_count": 36,
   "metadata": {
    "id": "AsyYzluCoH8j"
   },
   "outputs": [],
   "source": [
    "# Filling Fare\n",
    "test = test.fillna({'Fare':14.45})\n",
    "# Creating FamilySize Column\n",
    "test = test.withColumn('FamilySize', test.Parch + test.SibSp). drop('Parch', 'SibSp')"
   ]
  },
  {
   "cell_type": "code",
   "execution_count": 37,
   "metadata": {
    "colab": {
     "base_uri": "https://localhost:8080/"
    },
    "id": "uKfae2vkoH8j",
    "outputId": "d508ff26-6cb7-4ece-fce8-4ef4ddda8307"
   },
   "outputs": [
    {
     "name": "stdout",
     "output_type": "stream",
     "text": [
      "+------+----------+------------------+\n",
      "| Title|count(Age)|          avg(Age)|\n",
      "+------+----------+------------------+\n",
      "|Master|        17| 7.406470588235294|\n",
      "|   Mrs|        63|38.904761904761905|\n",
      "|  Miss|        64|21.774843750000002|\n",
      "|    Mr|       188|32.340425531914896|\n",
      "+------+----------+------------------+\n",
      "\n"
     ]
    }
   ],
   "source": [
    "# For age imputing, we need to redo the same process again, getting the average values for each title\n",
    "test = test.withColumn('Title', regexp_extract(test.Name, '([A-Za-z]+)\\.', 1))\n",
    "test = test.withColumn('Title', map[test.Title])\n",
    "test.groupBy('Title').agg(count('Age'), mean('Age')).sort('count(Age)').show()"
   ]
  },
  {
   "cell_type": "code",
   "execution_count": 38,
   "metadata": {
    "colab": {
     "base_uri": "https://localhost:8080/"
    },
    "id": "T-yCtKiHoH8j",
    "outputId": "159de573-2596-4455-b9d8-77024d8a5244"
   },
   "outputs": [
    {
     "name": "stdout",
     "output_type": "stream",
     "text": [
      "+-----------+------+------+----+-------+--------+----------+\n",
      "|PassengerId|Pclass|   Sex| Age|   Fare|Embarked|FamilySize|\n",
      "+-----------+------+------+----+-------+--------+----------+\n",
      "|        892|     3|  male|34.5| 7.8292|       Q|         0|\n",
      "|        893|     3|female|47.0|    7.0|       S|         1|\n",
      "|        894|     2|  male|62.0| 9.6875|       Q|         0|\n",
      "|        895|     3|  male|27.0| 8.6625|       S|         0|\n",
      "|        896|     3|female|22.0|12.2875|       S|         2|\n",
      "+-----------+------+------+----+-------+--------+----------+\n",
      "only showing top 5 rows\n",
      "\n"
     ]
    }
   ],
   "source": [
    "test = age_imputer(test, 'Master', 7.40)\n",
    "test = age_imputer(test, 'Mrs', 38.90)\n",
    "test = age_imputer(test, 'Miss', 21.77)\n",
    "test = age_imputer(test, 'Mr',32.34)\n",
    "test = test.drop('Cabin', 'Name', 'Ticket', 'Title') # Keeping PassengerId for submission\n",
    "test.show(5)"
   ]
  },
  {
   "cell_type": "code",
   "execution_count": 39,
   "metadata": {
    "colab": {
     "background_save": true
    },
    "id": "bNPSmGd4oH8j",
    "outputId": "9b678b71-4a36-4b58-865f-f8a5ff40a5ea"
   },
   "outputs": [
    {
     "data": {
      "text/plain": [
       "0.8529741863075196"
      ]
     },
     "execution_count": 39,
     "metadata": {},
     "output_type": "execute_result"
    }
   ],
   "source": [
    "pipeline = Pipeline(stages=[indexer, assembler, rf])\n",
    "\n",
    "params = ParamGridBuilder().\\\n",
    "            addGrid(rf.maxDepth, [3, 4, 5]).\\\n",
    "            addGrid(rf.minInfoGain, [0., 0.01, 0.1]).\\\n",
    "            addGrid(rf.numTrees, [1000]).\\\n",
    "            addGrid(rf.impurity, [\"gini\", \"entropy\"]).\\\n",
    "            addGrid(rf.minInstancesPerNode, [1, 5, 10]).\\\n",
    "            addGrid(rf.maxBins, [20, 32, 50]).\\\n",
    "            build()\n",
    "\n",
    "cv = CrossValidator(estimator=pipeline, \n",
    "                                estimatorParamMaps=params, \n",
    "                                evaluator=accuracy, \n",
    "                                numFolds=5)\n",
    "\n",
    "model_final = cv.fit(train)\n",
    "pred_train = model_final.transform(train)\n",
    "accuracy.evaluate(pred_train)"
   ]
  },
  {
   "cell_type": "code",
   "execution_count": 41,
   "metadata": {},
   "outputs": [
    {
     "ename": "NameError",
     "evalue": "name 'pred_test' is not defined",
     "output_type": "error",
     "traceback": [
      "\u001b[1;31m---------------------------------------------------------------------------\u001b[0m",
      "\u001b[1;31mNameError\u001b[0m                                 Traceback (most recent call last)",
      "\u001b[1;32m~\\AppData\\Local\\Temp\\ipykernel_14648\\2859746541.py\u001b[0m in \u001b[0;36m<module>\u001b[1;34m\u001b[0m\n\u001b[1;32m----> 1\u001b[1;33m \u001b[0mpred_test\u001b[0m\u001b[1;33m.\u001b[0m\u001b[0mprintSchema\u001b[0m\u001b[1;33m(\u001b[0m\u001b[1;33m)\u001b[0m\u001b[1;33m\u001b[0m\u001b[1;33m\u001b[0m\u001b[0m\n\u001b[0m",
      "\u001b[1;31mNameError\u001b[0m: name 'pred_test' is not defined"
     ]
    }
   ],
   "source": [
    "pred_test.printSchema()"
   ]
  },
  {
   "cell_type": "code",
   "execution_count": 42,
   "metadata": {
    "id": "q9NMnCaWoH8j",
    "outputId": "2765ac84-d5c9-415c-e03f-800215bb1b11"
   },
   "outputs": [
    {
     "name": "stdout",
     "output_type": "stream",
     "text": [
      "+-----------+--------+\n",
      "|PassengerId|Survived|\n",
      "+-----------+--------+\n",
      "|        892|       0|\n",
      "|        893|       0|\n",
      "|        894|       0|\n",
      "|        895|       0|\n",
      "|        896|       1|\n",
      "+-----------+--------+\n",
      "only showing top 5 rows\n",
      "\n"
     ]
    }
   ],
   "source": [
    "pred_test = model_final.transform(test)\n",
    "\n",
    "predictions = pred_test.select('PassengerId','prediction')\n",
    "predictions = predictions.withColumn('Survived', predictions['prediction'].\\\n",
    "                                    cast('integer')).drop('prediction')\n",
    "predictions.show(5)"
   ]
  },
  {
   "cell_type": "code",
   "execution_count": 47,
   "metadata": {
    "id": "BJRpTEBNoH8j",
    "outputId": "ce1682a7-9950-4e4c-f71a-cccb737d4e90"
   },
   "outputs": [],
   "source": [
    "# Saving submission\n",
    "predictions.toPandas().to_csv('C:/Users/yyani/Desktop/submiss.csv', index=False)"
   ]
  }
 ],
 "metadata": {
  "colab": {
   "provenance": []
  },
  "kernelspec": {
   "display_name": "Python 3 (ipykernel)",
   "language": "python",
   "name": "python3"
  },
  "language_info": {
   "codemirror_mode": {
    "name": "ipython",
    "version": 3
   },
   "file_extension": ".py",
   "mimetype": "text/x-python",
   "name": "python",
   "nbconvert_exporter": "python",
   "pygments_lexer": "ipython3",
   "version": "3.9.13"
  }
 },
 "nbformat": 4,
 "nbformat_minor": 1
}
